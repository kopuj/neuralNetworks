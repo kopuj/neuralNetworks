{
 "cells": [
  {
   "metadata": {},
   "cell_type": "markdown",
   "source": [
    "# 1. Introduction to neural networks\n",
    "\n",
    "## Minimal neural network\n",
    "\n",
    "Let us start by building a minimal neural network. First, run the following cell for the necessary imports (their significance will become clear later). You'll need to install the python package Tensorflow first using the Python Packages manager."
   ],
   "id": "88d9a12e62335f32"
  },
  {
   "metadata": {
    "ExecuteTime": {
     "end_time": "2024-10-20T19:39:02.165860Z",
     "start_time": "2024-10-20T19:38:51.997383Z"
    }
   },
   "cell_type": "code",
   "source": [
    "import tensorflow as tf\n",
    "from tensorflow.keras.models import Sequential\n",
    "from tensorflow.keras.layers import Dense, Flatten\n",
    "from tensorflow.keras.datasets import mnist\n",
    "from tensorflow.keras.utils import to_categorical"
   ],
   "id": "ceaaa4d2",
   "outputs": [],
   "execution_count": 1
  },
  {
   "metadata": {},
   "cell_type": "markdown",
   "source": "Next, we download the famous MNIST dataset, which comes with Tensorflow:",
   "id": "494d185388b339a"
  },
  {
   "metadata": {
    "ExecuteTime": {
     "end_time": "2024-10-20T19:39:07.329876Z",
     "start_time": "2024-10-20T19:39:06.958032Z"
    }
   },
   "cell_type": "code",
   "source": "(x_train, y_train), (x_test, y_test) = mnist.load_data()",
   "id": "2bce384a8ae093bc",
   "outputs": [],
   "execution_count": 2
  },
  {
   "metadata": {},
   "cell_type": "markdown",
   "source": "First, we do some basic preprocessing:",
   "id": "267c1b36f68fb3d5"
  },
  {
   "metadata": {
    "ExecuteTime": {
     "end_time": "2024-10-20T19:39:10.624454Z",
     "start_time": "2024-10-20T19:39:10.407101Z"
    }
   },
   "cell_type": "code",
   "source": [
    "x_train = x_train / 255.0\n",
    "x_test = x_test / 255.0\n",
    "y_train = to_categorical(y_train, 10)\n",
    "y_test = to_categorical(y_test, 10)"
   ],
   "id": "bfa58bb96856179a",
   "outputs": [],
   "execution_count": 3
  },
  {
   "metadata": {},
   "cell_type": "markdown",
   "source": "Define the structure of a simple neural network:",
   "id": "4184bc750b25ae35"
  },
  {
   "metadata": {
    "ExecuteTime": {
     "end_time": "2024-10-20T19:39:14.675842Z",
     "start_time": "2024-10-20T19:39:14.498842Z"
    }
   },
   "cell_type": "code",
   "source": [
    "model = Sequential([\n",
    "    Flatten(input_shape=(28, 28)),\n",
    "    Dense(128, activation='relu'),\n",
    "    Dense(10, activation='softmax')\n",
    "])"
   ],
   "id": "68e350acf47c9cd3",
   "outputs": [],
   "execution_count": 4
  },
  {
   "metadata": {},
   "cell_type": "markdown",
   "source": "Compile the model:",
   "id": "c8d1737e15ec06ce"
  },
  {
   "metadata": {
    "ExecuteTime": {
     "end_time": "2024-10-20T19:39:17.105694Z",
     "start_time": "2024-10-20T19:39:17.088694Z"
    }
   },
   "cell_type": "code",
   "source": [
    "model.compile(optimizer='adam',\n",
    "              loss='categorical_crossentropy',\n",
    "              metrics=['accuracy'])"
   ],
   "id": "29cbc911881112d2",
   "outputs": [],
   "execution_count": 5
  },
  {
   "metadata": {},
   "cell_type": "markdown",
   "source": "Train the model:",
   "id": "8d5b4ed51629d708"
  },
  {
   "metadata": {
    "ExecuteTime": {
     "end_time": "2024-10-20T19:39:50.256267Z",
     "start_time": "2024-10-20T19:39:27.395271Z"
    }
   },
   "cell_type": "code",
   "source": "model.fit(x_train, y_train, epochs=5, batch_size=32, validation_split=0.2)",
   "id": "600a97bb2ad2f0e7",
   "outputs": [
    {
     "name": "stdout",
     "output_type": "stream",
     "text": [
      "Epoch 1/5\n",
      "1500/1500 [==============================] - 5s 3ms/step - loss: 0.2897 - accuracy: 0.9178 - val_loss: 0.1621 - val_accuracy: 0.9546\n",
      "Epoch 2/5\n",
      "1500/1500 [==============================] - 4s 3ms/step - loss: 0.1282 - accuracy: 0.9627 - val_loss: 0.1168 - val_accuracy: 0.9653\n",
      "Epoch 3/5\n",
      "1500/1500 [==============================] - 4s 3ms/step - loss: 0.0872 - accuracy: 0.9734 - val_loss: 0.1026 - val_accuracy: 0.9696\n",
      "Epoch 4/5\n",
      "1500/1500 [==============================] - 4s 3ms/step - loss: 0.0646 - accuracy: 0.9805 - val_loss: 0.0979 - val_accuracy: 0.9720\n",
      "Epoch 5/5\n",
      "1500/1500 [==============================] - 4s 3ms/step - loss: 0.0498 - accuracy: 0.9849 - val_loss: 0.0902 - val_accuracy: 0.9729\n"
     ]
    },
    {
     "data": {
      "text/plain": [
       "<keras.callbacks.History at 0x25a8443a0a0>"
      ]
     },
     "execution_count": 6,
     "metadata": {},
     "output_type": "execute_result"
    }
   ],
   "execution_count": 6
  },
  {
   "metadata": {
    "ExecuteTime": {
     "end_time": "2024-10-20T19:40:09.006436Z",
     "start_time": "2024-10-20T19:40:08.331297Z"
    }
   },
   "cell_type": "code",
   "source": [
    "test_loss, test_acc = model.evaluate(x_test, y_test)\n",
    "print(f'Test accuracy: {test_acc}')"
   ],
   "id": "f876664c0cc638f1",
   "outputs": [
    {
     "name": "stdout",
     "output_type": "stream",
     "text": [
      "313/313 [==============================] - 1s 2ms/step - loss: 0.0777 - accuracy: 0.9758\n",
      "Test accuracy: 0.9757999777793884\n"
     ]
    }
   ],
   "execution_count": 8
  },
  {
   "metadata": {},
   "cell_type": "code",
   "outputs": [],
   "execution_count": null,
   "source": "",
   "id": "48b658f5dcf21b6b"
  }
 ],
 "metadata": {
  "kernelspec": {
   "display_name": "Python 3 (ipykernel)",
   "language": "python",
   "name": "python3"
  },
  "language_info": {
   "codemirror_mode": {
    "name": "ipython",
    "version": 3
   },
   "file_extension": ".py",
   "mimetype": "text/x-python",
   "name": "python",
   "nbconvert_exporter": "python",
   "pygments_lexer": "ipython3",
   "version": "3.9.16"
  }
 },
 "nbformat": 4,
 "nbformat_minor": 5
}
