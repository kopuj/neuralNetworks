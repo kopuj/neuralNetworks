{
 "cells": [
  {
   "metadata": {},
   "cell_type": "markdown",
   "source": [
    "# 4. Text data and preprocessing\n",
    "\n",
    "Most of the recent impressive advances in machine learning and artificial intelligence have emerged in the field of natural language processing. In addition to simpler tasks such as sentiment analysis or text classification, there has been considerable progress in more advanced tasks such as translation and question answering. Text processing involves several unique techniques and methods, which we shall look at next.\n",
    "\n",
    "## Bag-of-words approach\n",
    "\n",
    "In natural language processing tasks, the original data is typically in the form of strings, or a list of strings. Neural networks cannot process strings directly, so they need to be converted to arrays consisting of numerical values. This preprocessing usually consists of a succession of distinct steps:\n",
    "\n",
    "* *Text standardization*: convert everything to lowercase, remove punctuation and other special characters, etc.\n",
    "* *Tokenization*: split the text into separate units or **tokens** (words, characters, N-grams ...), and set up a vocabulary\n",
    "* *Vectorization*: associate a numerical vector with each of the tokens in the vocabulary\n",
    "\n",
    "To investigate an example of implementing these methods, we use the well-known IMDB movie review dataset, that can be downloaded from [the Stanford page of Andrew Maas](https://ai.stanford.edu/~amaas/data/sentiment/). The movie reviews are contained in two folders: one for training samples and one for testing. These folders contain additional subfolders \"pos\" and \"neg\" with samples corresponding to their sentiment; note that the train directory contains an extra subfolder \"unsup\", which is unnecessary for this purpose and should be removed before continuing.   "
   ],
   "id": "21103dac0ccc2f7e"
  },
  {
   "metadata": {
    "ExecuteTime": {
     "end_time": "2024-11-12T09:12:15.986650Z",
     "start_time": "2024-11-12T09:12:12.329905Z"
    }
   },
   "cell_type": "code",
   "source": [
    "from tensorflow import keras\n",
    "\n",
    "batch_size = 32\n",
    "\n",
    "train_ds = keras.utils.text_dataset_from_directory( \n",
    "    '../../aclImdb/train/', \n",
    "    validation_split=0.2, \n",
    "    subset=\"training\", \n",
    "    seed=123,\n",
    "    batch_size=batch_size)\n",
    "\n",
    "val_ds = keras.utils.text_dataset_from_directory( \n",
    "    '../../aclImdb/train/', \n",
    "    validation_split=0.2, \n",
    "    subset=\"validation\", \n",
    "    seed=123, # same seed as above!\n",
    "    batch_size=batch_size)\n",
    "\n",
    "test_ds = keras.utils.text_dataset_from_directory( \n",
    "    '../../aclImdb/test/', \n",
    "    batch_size=batch_size)"
   ],
   "id": "cbd0c5d8dd6d0208",
   "outputs": [
    {
     "name": "stdout",
     "output_type": "stream",
     "text": [
      "Found 25000 files belonging to 2 classes.\n",
      "Using 20000 files for training.\n",
      "Found 25000 files belonging to 2 classes.\n",
      "Using 5000 files for validation.\n",
      "Found 25000 files belonging to 2 classes.\n"
     ]
    }
   ],
   "execution_count": 16
  },
  {
   "metadata": {},
   "cell_type": "markdown",
   "source": "Below we take a look at one of the training samples. The integer-valued labels are binary: either zero (negative sentiment) or one (positive sentiment).",
   "id": "fde7f4e532c0845"
  },
  {
   "metadata": {
    "ExecuteTime": {
     "end_time": "2024-11-12T08:42:44.361355Z",
     "start_time": "2024-11-12T08:42:44.335343Z"
    }
   },
   "cell_type": "code",
   "source": [
    "for inputs, targets in train_ds:\n",
    "    print(inputs.shape, targets.shape)\n",
    "    print(inputs.dtype, targets.dtype)\n",
    "    print(inputs[0])\n",
    "    print(targets[0])\n",
    "    break"
   ],
   "id": "1a1112abd1c3b5b",
   "outputs": [
    {
     "name": "stdout",
     "output_type": "stream",
     "text": [
      "(32,) (32,)\n",
      "<dtype: 'string'> <dtype: 'int32'>\n",
      "tf.Tensor(b'This movie is a re-write of the 1978 Warren Beatty movie, \"Heaven Can Wait\", but it is written for the stand-up comedic style of Mr Rock. The premise remains the same: Lance Barton, (Rock) is taken before his life time is up and works a deal with God\\'s representative, Mr King, to come back to earth as someone else. As in Beatty\\'s movie; he chooses the murdered Charles Wellington, a rich white man, all because he fancies Sontee Jenkins (Regina King) who happens to turn up at Wellington\\'s house during the murder. The role of Mrs Wellington and her lover suffers in this remake and the idea to turn an aged white multi-millionaire into a stand up black comedian who tries to woo Sontee simply does not work. Also the intercuts used to show Rock as Wellington and then as the real \\'white\\' Wellington, fail miserably. Improvements could have been made to the original Beatty plot - which in itself did not masterfully portray the life-after-death idea - but they certainly were not to be found in \"Down To Earth\".', shape=(), dtype=string)\n",
      "tf.Tensor(0, shape=(), dtype=int32)\n"
     ]
    }
   ],
   "execution_count": 11
  },
  {
   "metadata": {},
   "cell_type": "markdown",
   "source": [
    "For basic text preprocessing, Keras offers a `TextVectorization` layer. This layer can be used to preprocess the string-formed text data into numerical vectors. The code cell below does the following:\n",
    "\n",
    "* transforms the text to lowercase\n",
    "* removes punctuation\n",
    "* does word-level tokenization by splitting on whitespace\n",
    "* sets up a vocabulary of tokens\n",
    "* outputs the text converted to a vector of zeroes and ones.  "
   ],
   "id": "a6bf2f7f1970ce96"
  },
  {
   "metadata": {
    "ExecuteTime": {
     "end_time": "2024-11-12T09:12:28.317587Z",
     "start_time": "2024-11-12T09:12:23.150835Z"
    }
   },
   "cell_type": "code",
   "source": [
    "from tensorflow.keras.layers import TextVectorization\n",
    "\n",
    "max_tokens = 10000 # Maximum vocabulary size \n",
    "\n",
    "vectorization_layer = TextVectorization( \n",
    "    max_tokens=max_tokens, \n",
    "    output_mode='multi_hot'\n",
    ")\n",
    "\n",
    "# Adapt the layer to the text data \n",
    "train_texts = train_ds.map(lambda x, y: x) \n",
    "vectorization_layer.adapt(train_texts)\n",
    "\n",
    "# Apply the vectorization to the datasets \n",
    "train_ds = train_ds.map(lambda x, y: (vectorization_layer(x), y)) \n",
    "val_ds = val_ds.map(lambda x, y: (vectorization_layer(x), y))\n",
    "test_ds = test_ds.map(lambda x, y: (vectorization_layer(x), y))"
   ],
   "id": "d884f76f661f1418",
   "outputs": [],
   "execution_count": 17
  },
  {
   "metadata": {},
   "cell_type": "markdown",
   "source": "After this, the samples drawn from the Datasets are no longer strings, but vectors with as many elements as there are tokens in the vocabulary; in our example, we restrict the vocabulary size to 10000 most commonly encountered tokens in the training texts. Each of the vector elements are either one or zero depending on whether the text contained that particular token or not. ",
   "id": "9b3bb47fd2382f1b"
  },
  {
   "metadata": {
    "ExecuteTime": {
     "end_time": "2024-11-12T09:13:01.732401Z",
     "start_time": "2024-11-12T09:13:01.663305Z"
    }
   },
   "cell_type": "code",
   "source": [
    "for inputs, targets in train_ds:\n",
    "    print(inputs.shape, targets.shape)\n",
    "    print(inputs.dtype, targets.dtype)\n",
    "    print(inputs[0])\n",
    "    print(targets[0])\n",
    "    break"
   ],
   "id": "ca56c417cc859d11",
   "outputs": [
    {
     "name": "stdout",
     "output_type": "stream",
     "text": [
      "(32, 10000) (32,)\n",
      "<dtype: 'int64'> <dtype: 'int32'>\n",
      "tf.Tensor([1 1 1 ... 0 0 0], shape=(10000,), dtype=int64)\n",
      "tf.Tensor(1, shape=(), dtype=int32)\n"
     ]
    }
   ],
   "execution_count": 18
  },
  {
   "metadata": {},
   "cell_type": "markdown",
   "source": "This is a very simple example of a *bag-of-words* approach to natural language processing: the word vector merely indicates the presence or absence of a set of words in the input text. Let us now build and train a very simple fully connected classifier for the sentiment analysis task:",
   "id": "5bf0bdc603e1a8b6"
  },
  {
   "metadata": {
    "ExecuteTime": {
     "end_time": "2024-11-12T09:26:14.055784Z",
     "start_time": "2024-11-12T09:25:22.325389Z"
    }
   },
   "cell_type": "code",
   "source": [
    "from tensorflow.keras.models import Sequential \n",
    "from tensorflow.keras.layers import Input, Dense, Dropout\n",
    "\n",
    "model = Sequential([\n",
    "    Input(shape=(max_tokens,)),\n",
    "    Dense(units=16, activation='relu'),\n",
    "    Dropout(0.5),\n",
    "    Dense(units=1, activation='sigmoid')\n",
    "])\n",
    "\n",
    "model.compile(loss='binary_crossentropy', optimizer='rmsprop', metrics=['accuracy'])\n",
    "\n",
    "history = model.fit(train_ds, epochs=10, validation_data=val_ds)"
   ],
   "id": "2f72a99b29c21124",
   "outputs": [
    {
     "name": "stdout",
     "output_type": "stream",
     "text": [
      "Epoch 1/10\n",
      "\u001B[1m625/625\u001B[0m \u001B[32m━━━━━━━━━━━━━━━━━━━━\u001B[0m\u001B[37m\u001B[0m \u001B[1m6s\u001B[0m 8ms/step - accuracy: 0.7437 - loss: 0.5116 - val_accuracy: 0.8856 - val_loss: 0.2893\n",
      "Epoch 2/10\n",
      "\u001B[1m625/625\u001B[0m \u001B[32m━━━━━━━━━━━━━━━━━━━━\u001B[0m\u001B[37m\u001B[0m \u001B[1m5s\u001B[0m 8ms/step - accuracy: 0.8853 - loss: 0.3065 - val_accuracy: 0.8874 - val_loss: 0.2859\n",
      "Epoch 3/10\n",
      "\u001B[1m625/625\u001B[0m \u001B[32m━━━━━━━━━━━━━━━━━━━━\u001B[0m\u001B[37m\u001B[0m \u001B[1m5s\u001B[0m 8ms/step - accuracy: 0.9042 - loss: 0.2640 - val_accuracy: 0.8856 - val_loss: 0.2996\n",
      "Epoch 4/10\n",
      "\u001B[1m625/625\u001B[0m \u001B[32m━━━━━━━━━━━━━━━━━━━━\u001B[0m\u001B[37m\u001B[0m \u001B[1m5s\u001B[0m 8ms/step - accuracy: 0.9136 - loss: 0.2498 - val_accuracy: 0.8886 - val_loss: 0.3107\n",
      "Epoch 5/10\n",
      "\u001B[1m625/625\u001B[0m \u001B[32m━━━━━━━━━━━━━━━━━━━━\u001B[0m\u001B[37m\u001B[0m \u001B[1m5s\u001B[0m 8ms/step - accuracy: 0.9186 - loss: 0.2508 - val_accuracy: 0.8836 - val_loss: 0.3244\n",
      "Epoch 6/10\n",
      "\u001B[1m625/625\u001B[0m \u001B[32m━━━━━━━━━━━━━━━━━━━━\u001B[0m\u001B[37m\u001B[0m \u001B[1m5s\u001B[0m 8ms/step - accuracy: 0.9189 - loss: 0.2423 - val_accuracy: 0.8824 - val_loss: 0.3407\n",
      "Epoch 7/10\n",
      "\u001B[1m625/625\u001B[0m \u001B[32m━━━━━━━━━━━━━━━━━━━━\u001B[0m\u001B[37m\u001B[0m \u001B[1m5s\u001B[0m 8ms/step - accuracy: 0.9229 - loss: 0.2360 - val_accuracy: 0.8818 - val_loss: 0.3456\n",
      "Epoch 8/10\n",
      "\u001B[1m625/625\u001B[0m \u001B[32m━━━━━━━━━━━━━━━━━━━━\u001B[0m\u001B[37m\u001B[0m \u001B[1m5s\u001B[0m 8ms/step - accuracy: 0.9289 - loss: 0.2283 - val_accuracy: 0.8780 - val_loss: 0.3638\n",
      "Epoch 9/10\n",
      "\u001B[1m625/625\u001B[0m \u001B[32m━━━━━━━━━━━━━━━━━━━━\u001B[0m\u001B[37m\u001B[0m \u001B[1m5s\u001B[0m 8ms/step - accuracy: 0.9250 - loss: 0.2217 - val_accuracy: 0.8778 - val_loss: 0.3639\n",
      "Epoch 10/10\n",
      "\u001B[1m625/625\u001B[0m \u001B[32m━━━━━━━━━━━━━━━━━━━━\u001B[0m\u001B[37m\u001B[0m \u001B[1m5s\u001B[0m 8ms/step - accuracy: 0.9304 - loss: 0.2205 - val_accuracy: 0.8830 - val_loss: 0.3692\n"
     ]
    }
   ],
   "execution_count": 20
  },
  {
   "metadata": {},
   "cell_type": "markdown",
   "source": "Let us test the classifier:",
   "id": "d11a3c57cc2a1c56"
  },
  {
   "metadata": {
    "ExecuteTime": {
     "end_time": "2024-11-12T09:29:22.681047Z",
     "start_time": "2024-11-12T09:29:17.482948Z"
    }
   },
   "cell_type": "code",
   "source": "print(f\"Test accuracy: {model.evaluate(test_ds)[1]:.4f}\")",
   "id": "540f1ee4068d5a3b",
   "outputs": [
    {
     "name": "stdout",
     "output_type": "stream",
     "text": [
      "\u001B[1m782/782\u001B[0m \u001B[32m━━━━━━━━━━━━━━━━━━━━\u001B[0m\u001B[37m\u001B[0m \u001B[1m5s\u001B[0m 7ms/step - accuracy: 0.8795 - loss: 0.3639\n",
      "Test accuracy: 0.8769\n"
     ]
    }
   ],
   "execution_count": 21
  },
  {
   "metadata": {},
   "cell_type": "code",
   "outputs": [],
   "execution_count": null,
   "source": "",
   "id": "c7b74bcc4226dbea"
  }
 ],
 "metadata": {
  "kernelspec": {
   "display_name": "Python 3",
   "language": "python",
   "name": "python3"
  },
  "language_info": {
   "codemirror_mode": {
    "name": "ipython",
    "version": 2
   },
   "file_extension": ".py",
   "mimetype": "text/x-python",
   "name": "python",
   "nbconvert_exporter": "python",
   "pygments_lexer": "ipython2",
   "version": "2.7.6"
  }
 },
 "nbformat": 4,
 "nbformat_minor": 5
}
