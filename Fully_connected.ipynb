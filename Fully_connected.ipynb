{
 "cells": [
  {
   "metadata": {},
   "cell_type": "markdown",
   "source": [
    "# 1. Fully connected neural networks\n",
    "\n",
    "Neural networks (NNs) are a family of extremely versatile machine learning algorithms, that can be used to study any supervised learning tasks, such as classification or regression problems. We begin to get acquainted with NNs by looking at a famous example of classifying images of handwritten digits. For implementing NN models with Python, we use the **Keras** library, that can be accessed from the **TensorFlow** platform. Therefore, in order to be able to execute the code cells in this document, you'll need to install TensorFlow first, using *e.g.* the Python Packages manager.\n",
    "\n",
    "## First example with MNIST data\n",
    "\n",
    "First, run the following cell for the necessary imports (their significance will become clear later on):"
   ],
   "id": "88d9a12e62335f32"
  },
  {
   "metadata": {
    "ExecuteTime": {
     "end_time": "2024-10-22T13:00:58.602640Z",
     "start_time": "2024-10-22T13:00:53.040997Z"
    }
   },
   "cell_type": "code",
   "source": [
    "from tensorflow.keras.models import Sequential\n",
    "from tensorflow.keras.layers import Dense, Flatten\n",
    "from tensorflow.keras.datasets import mnist\n",
    "from tensorflow.keras.utils import to_categorical"
   ],
   "id": "ceaaa4d2",
   "outputs": [],
   "execution_count": 1
  },
  {
   "metadata": {},
   "cell_type": "markdown",
   "source": [
    "Next, we download the MNIST dataset, which comes with Tensorflow and contains 28 x 28 pixel images of handwritten digits, labelled 0-9. The data ends up in four different NumPy tensors: `x_train` and `y_train` contain the input features and target labels for the training samples, and `x_test` and `y_test` the same for the test samples. \n",
    "\n",
    "The training set consists of 60000 image samples, and the test set a further 10000 samples."
   ],
   "id": "494d185388b339a"
  },
  {
   "metadata": {
    "ExecuteTime": {
     "end_time": "2024-10-22T13:00:58.809858Z",
     "start_time": "2024-10-22T13:00:58.602640Z"
    }
   },
   "cell_type": "code",
   "source": "(x_train, y_train), (x_test, y_test) = mnist.load_data()",
   "id": "2bce384a8ae093bc",
   "outputs": [],
   "execution_count": 2
  },
  {
   "metadata": {},
   "cell_type": "markdown",
   "source": "First, we do some basic preprocessing: the input features (pixel values), that originally vary in the range 0 ... 255, are divided by 255 to convert them to range 0 ... 1. In addition, the labels are one-hot-encoded (with the Keras function `to_categorical`) from their original integer-valued form; this ensures that any two different labels are equidistant from each other. For example, the label 4 is converted to the form [0, 0, 0, 0, 1, 0, 0, 0, 0, 0]. ",
   "id": "267c1b36f68fb3d5"
  },
  {
   "metadata": {
    "ExecuteTime": {
     "end_time": "2024-10-22T13:00:58.956373Z",
     "start_time": "2024-10-22T13:00:58.809858Z"
    }
   },
   "cell_type": "code",
   "source": [
    "x_train = x_train / 255.0\n",
    "x_test = x_test / 255.0\n",
    "y_train = to_categorical(y_train, 10)\n",
    "y_test = to_categorical(y_test, 10)"
   ],
   "id": "bfa58bb96856179a",
   "outputs": [],
   "execution_count": 3
  },
  {
   "metadata": {},
   "cell_type": "markdown",
   "source": [
    "Now we determine the structure (architecture) of our simple neural network. First we create an instance of class `Sequential`, which corresponds to a neural network consisting of layers stacked one after another (most of them are of this kind).\n",
    "\n",
    "This particular neural network model has three layers; ignore their details for now, as we'll look at them more closely below."
   ],
   "id": "4184bc750b25ae35"
  },
  {
   "metadata": {
    "ExecuteTime": {
     "end_time": "2024-10-22T13:00:59.088082Z",
     "start_time": "2024-10-22T13:00:58.956373Z"
    }
   },
   "cell_type": "code",
   "source": [
    "model = Sequential()\n",
    "model.add(Flatten(input_shape=(28, 28)))\n",
    "model.add(Dense(128, activation='relu'))\n",
    "model.add(Dense(10, activation='softmax'))"
   ],
   "id": "68e350acf47c9cd3",
   "outputs": [],
   "execution_count": 4
  },
  {
   "metadata": {},
   "cell_type": "markdown",
   "source": "Next the model needs to be compiled, which means providing the learning algorithm some information about training and performance monitoring. Again, we'll look at the details more closely below. ",
   "id": "c8d1737e15ec06ce"
  },
  {
   "metadata": {
    "ExecuteTime": {
     "end_time": "2024-10-22T13:00:59.104304Z",
     "start_time": "2024-10-22T13:00:59.088585Z"
    }
   },
   "cell_type": "code",
   "source": [
    "model.compile(optimizer='adam',\n",
    "              loss='categorical_crossentropy',\n",
    "              metrics=['accuracy'])"
   ],
   "id": "29cbc911881112d2",
   "outputs": [],
   "execution_count": 5
  },
  {
   "metadata": {},
   "cell_type": "markdown",
   "source": "Now the model can be trained with the training data:",
   "id": "8d5b4ed51629d708"
  },
  {
   "metadata": {
    "ExecuteTime": {
     "end_time": "2024-10-22T13:01:14.177464Z",
     "start_time": "2024-10-22T13:00:59.104304Z"
    }
   },
   "cell_type": "code",
   "source": "model.fit(x_train, y_train, epochs=5, batch_size=32)",
   "id": "600a97bb2ad2f0e7",
   "outputs": [
    {
     "name": "stdout",
     "output_type": "stream",
     "text": [
      "Epoch 1/5\n",
      "1875/1875 [==============================] - 3s 1ms/step - loss: 0.2584 - accuracy: 0.9264\n",
      "Epoch 2/5\n",
      "1875/1875 [==============================] - 3s 2ms/step - loss: 0.1136 - accuracy: 0.9670\n",
      "Epoch 3/5\n",
      "1875/1875 [==============================] - 3s 2ms/step - loss: 0.0774 - accuracy: 0.9765\n",
      "Epoch 4/5\n",
      "1875/1875 [==============================] - 3s 2ms/step - loss: 0.0577 - accuracy: 0.9828\n",
      "Epoch 5/5\n",
      "1875/1875 [==============================] - 3s 2ms/step - loss: 0.0444 - accuracy: 0.9862\n"
     ]
    },
    {
     "data": {
      "text/plain": [
       "<keras.callbacks.History at 0x13d42f75c70>"
      ]
     },
     "execution_count": 6,
     "metadata": {},
     "output_type": "execute_result"
    }
   ],
   "execution_count": 6
  },
  {
   "metadata": {},
   "cell_type": "markdown",
   "source": "Now that our model has been trained, we can use it to predict the labels of the samples in the test set (which the model has so far not been exposed to), and evaluate the classification accuracy. We observe that, even this fairly simple model is able to predict the labels with accuracy that is above 97%.",
   "id": "a2510e5d738ee736"
  },
  {
   "metadata": {
    "ExecuteTime": {
     "end_time": "2024-10-22T13:01:14.760882Z",
     "start_time": "2024-10-22T13:01:14.177464Z"
    }
   },
   "cell_type": "code",
   "source": [
    "test_loss, test_acc = model.evaluate(x_test, y_test)\n",
    "print(f'Test accuracy: {test_acc}')"
   ],
   "id": "f876664c0cc638f1",
   "outputs": [
    {
     "name": "stdout",
     "output_type": "stream",
     "text": [
      "313/313 [==============================] - 1s 1ms/step - loss: 0.0848 - accuracy: 0.9757\n",
      "Test accuracy: 0.9757000207901001\n"
     ]
    }
   ],
   "execution_count": 7
  },
  {
   "metadata": {},
   "cell_type": "markdown",
   "source": [
    "## Stages of deep learning\n",
    "\n",
    "The above example contains all the essential stages of **deep learning** (*i.e.*, machine learning with NNs) experiments:\n",
    "\n",
    "* **Download the data**: prepare separate sets for training and testing as NumPy arrays\n",
    "* **Preprocess the data**: standardize/normalize input features, one-hot-encode categorical variables\n",
    "* **Build the model**: define the architecture and the various layers\n",
    "* **Compile the model**: specify the details for the learning algorithm and monitored metrics\n",
    "* **Train the model**: allow the learning algorithm to find good parameter values for the model\n",
    "* **Evaluate the model**: test the performance with new, previously unseen data\n",
    "\n",
    "It is useful to think of a neural network as an information-processing unit. Input data enters the network in the form of a tensor, which is a multidimensional array of numbers. The first layer of the network modifies this tensor, and outputs a new one, which then enters the second layer as an input. The data then flows through the network from one layer to the next, and gets modified every step of the way, finally coming out as predictions for the target values. In other words, a neural network aims to model the connection between the inputs and outputs.\n",
    "\n",
    "In the example above, the first layer (the *Flatten* layer) only reshapes the input tensor. Originally, the shape of the tensor containing the input features in the training samples is "
   ],
   "id": "e08d813c79054fd3"
  },
  {
   "metadata": {
    "ExecuteTime": {
     "end_time": "2024-10-22T13:01:14.777478Z",
     "start_time": "2024-10-22T13:01:14.760882Z"
    }
   },
   "cell_type": "code",
   "source": "x_train.shape",
   "id": "48b658f5dcf21b6b",
   "outputs": [
    {
     "data": {
      "text/plain": [
       "(60000, 28, 28)"
      ]
     },
     "execution_count": 8,
     "metadata": {},
     "output_type": "execute_result"
    }
   ],
   "execution_count": 8
  },
  {
   "metadata": {},
   "cell_type": "markdown",
   "source": "That is, the three-dimensional input tensor contains 60000 samples, each determined by 28 times 28 pixel values: the first index determines the sample, and the second and third index point to the row and column of the collection of pixel values defining the image. The cell below shows one example of the input samples.",
   "id": "569a6cc40577facb"
  },
  {
   "metadata": {
    "ExecuteTime": {
     "end_time": "2024-10-22T13:01:15.758509Z",
     "start_time": "2024-10-22T13:01:14.778996Z"
    }
   },
   "cell_type": "code",
   "source": [
    "import matplotlib.pyplot as plt\n",
    "\n",
    "# Visualize a sample image\n",
    "sample_number = 42\n",
    "plt.imshow(x_train[sample_number], cmap='gray')\n",
    "plt.title(f'Label: {y_train[sample_number].argmax()}')  # Use .argmax() to get the label as an integer\n",
    "plt.axis('off')  # Hide the axes\n",
    "plt.show()"
   ],
   "id": "3e41cc8c7fd585b5",
   "outputs": [
    {
     "data": {
      "text/plain": [
       "<Figure size 640x480 with 1 Axes>"
      ],
      "image/png": "[encoded data removed]"
     },
     "metadata": {},
     "output_type": "display_data"
    }
   ],
   "execution_count": 9
  },
  {
   "metadata": {},
   "cell_type": "markdown",
   "source": [
    "The first layer of the neural network model merely reshapes the input tensor from a three-dimensional to two-dimensional form: instead of a 2D table of 28 x 28 numerical values, each sample becomes a 1D vector of 28 x 28 = 784 numerical values. \n",
    "\n",
    "Following the Flatten layer, the above model has two additional *Dense* layers. These layers perform a somewhat more complex computation. To understand that, we need to consider the mathematics of neural networks in more detail."
   ],
   "id": "5a4992c1afafeb29"
  },
  {
   "metadata": {},
   "cell_type": "markdown",
   "source": [
    "### Single neuron\n",
    "\n",
    "Neural networks consist of a large number of similar unit entities, neurons, arranged in layers. Each of the neurons performs a similar kind of computation: it takes in a collection of input values, and produces a single number as an output. The computation takes place in two stages: 1) **weighted sum**, followed by 2) **activation function**.\n",
    "\n",
    "Assume that an individual neuron takes in N inputs: $x_{1}, x_{2}, ..., x_{N}$. Such a neuron has N parameters called **weights**, $w_{1}, w_{2}, ..., w_{N}$, and a **bias** parameter $b$. First, the neuron computes a weighted sum $z$ of the inputs as follows:\n",
    "\n",
    "$$\n",
    "z = w_{1}x_{1} + w_{2}x_{2} + ... + w_{N}x_{N} + b\n",
    "$$\n",
    "After this, the final output $y$ of the neuron is obtained from\n",
    "\n",
    "$$\n",
    "y = f(z)\n",
    "$$\n",
    "where the function $f$ is called an **activation function**. Common choices for activation functions are the sigmoid\n",
    "\n",
    "$$\n",
    "f(z) = \\frac{1}{e^{-x}+1}\n",
    "$$ \n",
    "and the ReLU (rectified linear unit)\n",
    "\n",
    "$$\n",
    "f(z) = \\begin{cases} \n",
    "z & \\hspace{1cm} z > 0 \\\\\n",
    "0 & \\hspace{1cm} \\text{otherwise} \n",
    "\\end{cases} \n",
    "$$\n",
    "The activation functions are typically chosen to be nonlinear (as the two examples above are) to increase the complexity of the computation performed by the neurons and, therefore, to be able to model complex behavior.\n",
    "\n",
    "### Fully connected (Dense) layer\n",
    "\n",
    "A **fully connected** (FC) layer &ndash; or *Dense* layer, as they are referred to in Keras &ndash; is simply a collection of several neurons, each having their individual set of weight and bias values. For example, the second layer in our model above has a total of 128 neurons. Each of these 128 neurons takes all 784 pixel values of each sample in as input; each neuron also has 128 weights and one bias value, and they compute a weighted sum of the 784 input features. Next, each of these 784 intermediate outputs are inserted in the activation function (this is the same for all 128 neurons in the layer), producing the final output of 128 values. In this way, the dense layer processes the original 1D vector of 784 values to another 1D vector of 128 values. This information then continues to the next layer as an input.\n",
    "\n",
    "As the MNIST model is a fairly large one, let us first take a look at a much simpler FC neural network with similar structure, shown in the image below:"
   ],
   "id": "5c8df2c03f7f518b"
  },
  {
   "metadata": {
    "ExecuteTime": {
     "end_time": "2024-10-22T13:01:15.774122Z",
     "start_time": "2024-10-22T13:01:15.758509Z"
    }
   },
   "cell_type": "code",
   "source": "from IPython.display import Image,display;display(Image(filename=\"Images/nn.png\"))",
   "id": "7119328f77e175fe",
   "outputs": [
    {
     "data": {
      "image/png": "[encoded data removed]",
      "text/plain": [
       "<IPython.core.display.Image object>"
      ]
     },
     "metadata": {},
     "output_type": "display_data"
    }
   ],
   "execution_count": 10
  },
  {
   "metadata": {},
   "cell_type": "markdown",
   "source": [
    "(image generated with [https://alexlenail.me/NN-SVG/](https://alexlenail.me/NN-SVG/))\n",
    "\n",
    "This model consists of three layers: input layer, hidden layer, and output layer. The first **input layer** only represents the input features of a single sample: in this example, there are eight such features (in the above MNIST example, there are 784 of them). The next layer, **hidden layer**, consists of four neurons (in the MNIST model, there are 128 neurons in the hidden layer). In an FC model, each of them receives all the elements in the previous input layer as inputs; this is signified by the lines connecting the input-layer elements to the hidden-layer neurons. Each of these four neurons then performs its own individual calculation (weighted sum followed by activation function), and produces an output. Next, these four numerical output values enter the final **output layer** as inputs. Finally, the single neuron in the output layer (instead of ten in the MNIST model) then computes the final output of the neural network, which corresponds to the prediction for the sample under consideration; with sigmoid activation, this value would be in the range 0 ... 1, and could be identified with a class probability in a binary classification problem.\n",
    "\n",
    "In the MNIST example, the output layer is associated with a special activation function called **softmax**, which involves all the ten neuron units together. This function is defined as \n",
    "\n",
    "$$\n",
    "y_{i} = \\frac{e^{z_{i}}}{\\Sigma_{j} \\hspace{2mm} e^{z_{j}}},\n",
    "$$\n",
    "where $z_{i}$ is the weighted sum and $y_{i}$ is the final output of a particular output-layer neuron denoted by the index $i$ (in MNIST example, $i$ = 0, ..., 9). Note that the definition of the softmax function ensures that all the outputs are in the range 0 ... 1, and their total sum is 1. Therefore, the output produced by softmax can conveniently be interpreted as a *probability distribution*, and is commonly used in the context of multiclass classification problems such as the MNIST task.  \n",
    "\n",
    "All FC neural networks have an input layer, and an output layer, but there can be any number of intermediate hidden layers; in fact, large models (such as those used in self-driving cars) might have hundreds of them. The computation proceeds in a similar manner, however, from one layer to the next in the sequence of layers. The process of calculating the outputs (target predictions) from the inputs, with information flowing through the neural network, is called **forward pass**.\n",
    "\n",
    "### Trainable parameters\n",
    "\n",
    "A neural network outputs a certain function of its inputs. The details of this function are determined by the weights and biases of its neuron units. For example, the hidden layer of the simple FC neural network in the previous image has four neurons connected to eight input values (each having 8 weights and one bias value); this layer then has altogether 4 $\\cdot$ (8 + 1) = 36 parameter. In the output layer, there are 3 $\\cdot$ (4 + 1) = 15 further parameters, leading to the total of 36 + 15 = 51 parameters.\n",
    "\n",
    "The much larger MNIST model has 128 $\\cdot$ (784 + 1) + 10 $\\cdot$ (128 + 1) = 101770 tunable parameters, and is able to tackle the fairly complicated problem of classifying handwritten digits into 10 distinct classes. The numbers of parameters in various layers of the network can conveniently be found out as follows:"
   ],
   "id": "84526f23aa78e4f1"
  },
  {
   "metadata": {
    "ExecuteTime": {
     "end_time": "2024-10-22T14:05:57.797464Z",
     "start_time": "2024-10-22T14:05:57.737704Z"
    }
   },
   "cell_type": "code",
   "source": "model.summary()",
   "id": "29f1429c1b1e460a",
   "outputs": [
    {
     "name": "stdout",
     "output_type": "stream",
     "text": [
      "Model: \"sequential\"\n",
      "_________________________________________________________________\n",
      " Layer (type)                Output Shape              Param #   \n",
      "=================================================================\n",
      " flatten (Flatten)           (None, 784)               0         \n",
      "                                                                 \n",
      " dense (Dense)               (None, 128)               100480    \n",
      "                                                                 \n",
      " dense_1 (Dense)             (None, 10)                1290      \n",
      "                                                                 \n",
      "=================================================================\n",
      "Total params: 101,770\n",
      "Trainable params: 101,770\n",
      "Non-trainable params: 0\n",
      "_________________________________________________________________\n"
     ]
    }
   ],
   "execution_count": 11
  },
  {
   "metadata": {},
   "cell_type": "markdown",
   "source": [
    "When training the network, we would like to fix the values of its parameters so that the resulting function accurately represents the connection between the inputs and outputs. Happily, this parameter-value tuning happens automatically, without any direct involvement of the programmer. This happens as follows:\n",
    "\n",
    "* First, all the parameter values are initialized, typically with small random numbers.\n",
    "* Then, a subset of training samples, a **batch**, is selected from the training set, and predictions are computed for these samples.\n",
    "* Next, the predictions are compared with the true target labels, and the prediction error is quantified with a suitably chosen **loss function**.\n",
    "* The parameters (weights and biases) of the network are updated in order to *decrease the loss*.\n",
    "* After each update, a new batch of samples is selected, and the process is repeated.\n",
    "\n",
    "The above process of alternating forward passes and parameter updates are repeated until the training is completed, and the loss value no longer decreases appreciably with further iterations (or some other suitable stopping criterion is reached). At this point, the values of the trainable parameters (weights and biases) in the network should be well adapted to model the connection between the inputs and targets. The trained model can then be used to compute predictions for new samples in a separate test set, to assess its performance.\n",
    "\n",
    "In the MNIST example, the batch size of 32 (a parameter to the `fit` method) means that the prediction-update computations are performed to subsets of 32 samples at a time. These subsets are drawn randomly from the training set without replacement. When the entire training set has been used, the first training **epoch** terminates. The number of training epochs needs to be given to the fit method as well; in our example, the training time was set to five epochs (the samples in the training set were traversed through five times).  \n",
    "\n",
    "In the compilation stage, some details concerning the training process are specified. Keras offers a selection of **optimizers**, which are programs that take care of the parameter updates during training. Here we do not delve into their computational details; see [https://keras.io/api/optimizers/](https://keras.io/api/optimizers/) for a list of available choices. The loss function is also specified here: for multiclass classification problems such as the MNIST problem, the appropriate choice is *categorical cross entropy*; we shall return to this issue later in more detail. Finally, the monitored metrics shown during training are specified: here we chose to look at accuracy in addition to the loss value, which is always presented. \n",
    "\n",
    "**NOTE**: There are different kinds of parameters to deep learning, which can sometimes cause confusion. First, there are the **trainable parameters**, the weights and biases of the network, whose values change iteratively during training. In addition, however, the NN models also have **hyperparameters** that define the structure of the model: the number of hidden layers, and the number of neurons in each layer. Unlike the trainable parameters, these need to be selected beforehand by the programmer, and their values do not change during training. In fact, choosing appropriate and sensible values for the model hyperparameters is the most important (and difficult) part of any deep learning project."
   ],
   "id": "f6efbb2afe595f20"
  }
 ],
 "metadata": {
  "kernelspec": {
   "display_name": "Python 3 (ipykernel)",
   "language": "python",
   "name": "python3"
  },
  "language_info": {
   "codemirror_mode": {
    "name": "ipython",
    "version": 3
   },
   "file_extension": ".py",
   "mimetype": "text/x-python",
   "name": "python",
   "nbconvert_exporter": "python",
   "pygments_lexer": "ipython3",
   "version": "3.9.16"
  }
 },
 "nbformat": 4,
 "nbformat_minor": 5
}
