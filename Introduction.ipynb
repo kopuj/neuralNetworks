{
 "cells": [
  {
   "metadata": {},
   "cell_type": "markdown",
   "source": [
    "# 1. Introduction to neural networks\n",
    "\n",
    "## Minimal neural network\n",
    "\n",
    "Let us start by building a minimal neural network. First, run the following cell for the necessary imports (their significance will become clear later). You'll need to install the python package Tensorflow first using the Python Packages manager."
   ],
   "id": "88d9a12e62335f32"
  },
  {
   "metadata": {
    "ExecuteTime": {
     "end_time": "2024-10-20T18:53:40.990856Z",
     "start_time": "2024-10-20T18:53:40.976738Z"
    }
   },
   "cell_type": "code",
   "source": [
    "import tensorflow as tf\n",
    "from tensorflow.keras.models import Sequential\n",
    "from tensorflow.keras.layers import Dense, Flatten\n",
    "from tensorflow.keras.datasets import mnist\n",
    "from tensorflow.keras.utils import to_categorical"
   ],
   "id": "ceaaa4d2",
   "outputs": [],
   "execution_count": 25
  },
  {
   "metadata": {},
   "cell_type": "markdown",
   "source": "Next, we download the famous MNIST dataset, which comes with Tensorflow:",
   "id": "494d185388b339a"
  },
  {
   "metadata": {
    "ExecuteTime": {
     "end_time": "2024-10-20T18:40:34.339615Z",
     "start_time": "2024-10-20T18:40:34.119169Z"
    }
   },
   "cell_type": "code",
   "source": "(x_train, y_train), (x_test, y_test) = mnist.load_data()",
   "id": "2bce384a8ae093bc",
   "outputs": [],
   "execution_count": 17
  },
  {
   "metadata": {},
   "cell_type": "markdown",
   "source": "First, we do some basic preprocessing:",
   "id": "267c1b36f68fb3d5"
  },
  {
   "metadata": {
    "ExecuteTime": {
     "end_time": "2024-10-20T18:40:36.181066Z",
     "start_time": "2024-10-20T18:40:36.043013Z"
    }
   },
   "cell_type": "code",
   "source": [
    "x_train = x_train / 255.0\n",
    "x_test = x_test / 255.0\n",
    "y_train = to_categorical(y_train, 10)\n",
    "y_test = to_categorical(y_test, 10)"
   ],
   "id": "bfa58bb96856179a",
   "outputs": [],
   "execution_count": 18
  },
  {
   "metadata": {},
   "cell_type": "markdown",
   "source": "Define the structure of a simple neural network:",
   "id": "4184bc750b25ae35"
  },
  {
   "metadata": {
    "ExecuteTime": {
     "end_time": "2024-10-20T18:40:38.546116Z",
     "start_time": "2024-10-20T18:40:38.501227Z"
    }
   },
   "cell_type": "code",
   "source": [
    "model = Sequential([\n",
    "    Flatten(input_shape=(28, 28)),\n",
    "    Dense(128, activation='relu'),\n",
    "    Dense(10, activation='softmax')\n",
    "])"
   ],
   "id": "68e350acf47c9cd3",
   "outputs": [],
   "execution_count": 19
  },
  {
   "metadata": {},
   "cell_type": "markdown",
   "source": "Compile the model:",
   "id": "c8d1737e15ec06ce"
  },
  {
   "metadata": {
    "ExecuteTime": {
     "end_time": "2024-10-20T19:02:12.994509Z",
     "start_time": "2024-10-20T19:02:12.978884Z"
    }
   },
   "cell_type": "code",
   "source": [
    "model.compile(optimizer='adam',\n",
    "              loss='categorical_crossentropy',\n",
    "              metrics=['accuracy'])"
   ],
   "id": "29cbc911881112d2",
   "outputs": [],
   "execution_count": 32
  },
  {
   "metadata": {},
   "cell_type": "markdown",
   "source": "Train the model:",
   "id": "8d5b4ed51629d708"
  },
  {
   "metadata": {
    "ExecuteTime": {
     "end_time": "2024-10-20T19:02:55.258309Z",
     "start_time": "2024-10-20T19:02:42.582596Z"
    }
   },
   "cell_type": "code",
   "source": "model.fit(x_train, y_train, epochs=5, batch_size=32, validation_split=0.2)",
   "id": "600a97bb2ad2f0e7",
   "outputs": [
    {
     "name": "stdout",
     "output_type": "stream",
     "text": [
      "Epoch 1/5\n",
      "1500/1500 [==============================] - 3s 2ms/step - loss: 0.0073 - accuracy: 0.9979 - val_loss: 0.1087 - val_accuracy: 0.9758\n",
      "Epoch 2/5\n",
      "1500/1500 [==============================] - 2s 2ms/step - loss: 0.0055 - accuracy: 0.9983 - val_loss: 0.1285 - val_accuracy: 0.9738\n",
      "Epoch 3/5\n",
      "1500/1500 [==============================] - 2s 2ms/step - loss: 0.0049 - accuracy: 0.9986 - val_loss: 0.1375 - val_accuracy: 0.9724\n",
      "Epoch 4/5\n",
      "1500/1500 [==============================] - 2s 2ms/step - loss: 0.0078 - accuracy: 0.9975 - val_loss: 0.1313 - val_accuracy: 0.9738\n",
      "Epoch 5/5\n",
      "1500/1500 [==============================] - 2s 2ms/step - loss: 0.0048 - accuracy: 0.9986 - val_loss: 0.1296 - val_accuracy: 0.9726\n"
     ]
    },
    {
     "data": {
      "text/plain": [
       "<keras.callbacks.History at 0x1f5af2c4220>"
      ]
     },
     "execution_count": 36,
     "metadata": {},
     "output_type": "execute_result"
    }
   ],
   "execution_count": 36
  },
  {
   "metadata": {
    "ExecuteTime": {
     "end_time": "2024-10-20T19:02:31.998246Z",
     "start_time": "2024-10-20T19:02:31.969033Z"
    }
   },
   "cell_type": "code",
   "source": [
    "print(tf.__version__)\n",
    "print(tf.keras.__version__)"
   ],
   "id": "f3444db8c6cf697",
   "outputs": [
    {
     "name": "stdout",
     "output_type": "stream",
     "text": [
      "2.10.1\n",
      "2.10.0\n"
     ]
    }
   ],
   "execution_count": 34
  },
  {
   "metadata": {
    "ExecuteTime": {
     "end_time": "2024-10-20T19:02:37.062377Z",
     "start_time": "2024-10-20T19:02:35.872354Z"
    }
   },
   "cell_type": "code",
   "source": [
    "test_loss, test_acc = model.evaluate(x_test, y_test)\n",
    "print(f'Test accuracy: {test_acc}')"
   ],
   "id": "f876664c0cc638f1",
   "outputs": [
    {
     "name": "stdout",
     "output_type": "stream",
     "text": [
      "313/313 [==============================] - 1s 1ms/step - loss: 0.1027 - accuracy: 0.9775\n",
      "Test accuracy: 0.9775000214576721\n"
     ]
    }
   ],
   "execution_count": 35
  },
  {
   "metadata": {},
   "cell_type": "code",
   "outputs": [],
   "execution_count": null,
   "source": "",
   "id": "48b658f5dcf21b6b"
  }
 ],
 "metadata": {
  "kernelspec": {
   "display_name": "Python 3 (ipykernel)",
   "language": "python",
   "name": "python3"
  },
  "language_info": {
   "codemirror_mode": {
    "name": "ipython",
    "version": 3
   },
   "file_extension": ".py",
   "mimetype": "text/x-python",
   "name": "python",
   "nbconvert_exporter": "python",
   "pygments_lexer": "ipython3",
   "version": "3.9.16"
  }
 },
 "nbformat": 4,
 "nbformat_minor": 5
}
