{
 "cells": [
  {
   "metadata": {},
   "cell_type": "markdown",
   "source": [
    "# 4. Text data and preprocessing\n",
    "\n",
    "Most of the recent impressive advances in machine learning and artificial intelligence have emerged in the field of natural language processing. In addition to simpler tasks such as sentiment analysis or text classification, there has been considerable progress in more advanced tasks such as translation and question answering. Text processing involves several unique techniques and methods, which we shall look at next.\n",
    "\n",
    "## Bag-of-words approach\n",
    "\n",
    "In natural language processing tasks, the original data is typically in the form of strings, or a list of strings. Neural networks cannot process strings directly, so they need to be converted to arrays consisting of numerical values. This preprocessing usually consists of a succession of distinct steps:\n",
    "\n",
    "* *Text standardization*: convert everything to lowercase, remove punctuation and other special characters, etc.\n",
    "* *Tokenization*: split the text into separate units or **tokens** (words, characters, N-grams ...), and set up a vocabulary\n",
    "* *Vectorization*: associate a numerical vector with each of the tokens in the vocabulary\n",
    "\n",
    "To investigate an example of implementing these methods, we use the well-known IMDB movie review dataset, that can be downloaded from [the Stanford page of Andrew Maas](https://ai.stanford.edu/~amaas/data/sentiment/). The movie reviews are contained in two folders: one for training samples and one for testing. These folders contain additional subfolders \"pos\" and \"neg\" with samples corresponding to their sentiment; note that the train directory contains an extra subfolder \"unsup\", which is unnecessary for this purpose and should be removed before continuing.   "
   ],
   "id": "21103dac0ccc2f7e"
  },
  {
   "metadata": {
    "ExecuteTime": {
     "end_time": "2024-11-12T11:16:32.331286Z",
     "start_time": "2024-11-12T11:16:28.684942Z"
    }
   },
   "cell_type": "code",
   "source": [
    "from tensorflow import keras\n",
    "\n",
    "batch_size = 32\n",
    "\n",
    "train_ds = keras.utils.text_dataset_from_directory( \n",
    "    '../../aclImdb/train/', \n",
    "    validation_split=0.2, \n",
    "    subset=\"training\", \n",
    "    seed=123,\n",
    "    batch_size=batch_size)\n",
    "\n",
    "val_ds = keras.utils.text_dataset_from_directory( \n",
    "    '../../aclImdb/train/', \n",
    "    validation_split=0.2, \n",
    "    subset=\"validation\", \n",
    "    seed=123, # same seed as above!\n",
    "    batch_size=batch_size)\n",
    "\n",
    "test_ds = keras.utils.text_dataset_from_directory( \n",
    "    '../../aclImdb/test/', \n",
    "    batch_size=batch_size)"
   ],
   "id": "cbd0c5d8dd6d0208",
   "outputs": [
    {
     "name": "stdout",
     "output_type": "stream",
     "text": [
      "Found 25000 files belonging to 2 classes.\n",
      "Using 20000 files for training.\n",
      "Found 25000 files belonging to 2 classes.\n",
      "Using 5000 files for validation.\n",
      "Found 25000 files belonging to 2 classes.\n"
     ]
    }
   ],
   "execution_count": 39
  },
  {
   "metadata": {},
   "cell_type": "markdown",
   "source": "Below we take a look at one of the training samples. The integer-valued labels are binary: either zero (negative sentiment) or one (positive sentiment).",
   "id": "fde7f4e532c0845"
  },
  {
   "metadata": {
    "ExecuteTime": {
     "end_time": "2024-11-12T11:16:39.857904Z",
     "start_time": "2024-11-12T11:16:39.816191Z"
    }
   },
   "cell_type": "code",
   "source": [
    "for inputs, targets in train_ds:\n",
    "    print(inputs.shape, targets.shape)\n",
    "    print(inputs.dtype, targets.dtype)\n",
    "    print(inputs[0])\n",
    "    print(targets[0])\n",
    "    break"
   ],
   "id": "1a1112abd1c3b5b",
   "outputs": [
    {
     "name": "stdout",
     "output_type": "stream",
     "text": [
      "(32,) (32,)\n",
      "<dtype: 'string'> <dtype: 'int32'>\n",
      "tf.Tensor(b'After, I watched the films... I thought, \"Why the heck was this film such a high success in the Korean Box Office?\" Even thought the movie had a clever/unusal scenario, the acting wasn\\'t that good and the characters weren\\'t very interesting. For a Korean movie... I liked the fighting scenes. If you want to watch a film without thinking, this is the film for you. But I got to admit... the film was kind of childish... 6/10', shape=(), dtype=string)\n",
      "tf.Tensor(1, shape=(), dtype=int32)\n"
     ]
    }
   ],
   "execution_count": 40
  },
  {
   "metadata": {},
   "cell_type": "markdown",
   "source": [
    "For basic text preprocessing, Keras offers a `TextVectorization` layer. This layer can be used to preprocess the string-formed text data into numerical vectors. The code cell below does the following:\n",
    "\n",
    "* transforms the text to lowercase\n",
    "* removes punctuation\n",
    "* does word-level tokenization by splitting on whitespace\n",
    "* sets up a vocabulary of tokens\n",
    "* outputs the text converted to a vector of zeroes and ones.  "
   ],
   "id": "a6bf2f7f1970ce96"
  },
  {
   "metadata": {
    "ExecuteTime": {
     "end_time": "2024-11-12T11:17:03.461863Z",
     "start_time": "2024-11-12T11:16:58.248440Z"
    }
   },
   "cell_type": "code",
   "source": [
    "from tensorflow.keras.layers import TextVectorization\n",
    "\n",
    "max_tokens = 10000 # Maximum vocabulary size \n",
    "\n",
    "vectorization_layer = TextVectorization( \n",
    "    max_tokens=max_tokens, \n",
    "    output_mode='multi_hot'\n",
    ")\n",
    "\n",
    "# Adapt the layer to the text data \n",
    "train_texts = train_ds.map(lambda x, y: x) \n",
    "vectorization_layer.adapt(train_texts)\n",
    "\n",
    "# Apply the vectorization to the datasets \n",
    "train_ds_bow = train_ds.map(lambda x, y: (vectorization_layer(x), y)) \n",
    "val_ds_bow = val_ds.map(lambda x, y: (vectorization_layer(x), y))\n",
    "test_ds_bow = test_ds.map(lambda x, y: (vectorization_layer(x), y))"
   ],
   "id": "d884f76f661f1418",
   "outputs": [],
   "execution_count": 41
  },
  {
   "metadata": {},
   "cell_type": "markdown",
   "source": "After this, the samples drawn from the Datasets are no longer strings, but vectors with as many elements as there are tokens in the vocabulary; in our example, we restrict the vocabulary size to 10000 most commonly encountered tokens in the training texts. Each of the vector elements are either one or zero depending on whether the text contained that particular token or not. ",
   "id": "9b3bb47fd2382f1b"
  },
  {
   "metadata": {
    "ExecuteTime": {
     "end_time": "2024-11-12T11:17:10.924601Z",
     "start_time": "2024-11-12T11:17:10.858027Z"
    }
   },
   "cell_type": "code",
   "source": [
    "for inputs, targets in train_ds_bow:\n",
    "    print(inputs.shape, targets.shape)\n",
    "    print(inputs.dtype, targets.dtype)\n",
    "    print(inputs[0])\n",
    "    print(targets[0])\n",
    "    break"
   ],
   "id": "ca56c417cc859d11",
   "outputs": [
    {
     "name": "stdout",
     "output_type": "stream",
     "text": [
      "(32, 10000) (32,)\n",
      "<dtype: 'int64'> <dtype: 'int32'>\n",
      "tf.Tensor([1 1 1 ... 0 0 0], shape=(10000,), dtype=int64)\n",
      "tf.Tensor(0, shape=(), dtype=int32)\n"
     ]
    }
   ],
   "execution_count": 42
  },
  {
   "metadata": {},
   "cell_type": "markdown",
   "source": "This is a very simple example of a *bag-of-words* approach to natural language processing: the word vector merely indicates the presence or absence of a set of words in the input text. Let us now build and train a very simple fully connected classifier for the sentiment analysis task:",
   "id": "5bf0bdc603e1a8b6"
  },
  {
   "metadata": {
    "ExecuteTime": {
     "end_time": "2024-11-12T11:18:11.382899Z",
     "start_time": "2024-11-12T11:17:18.720467Z"
    }
   },
   "cell_type": "code",
   "source": [
    "from tensorflow.keras.models import Sequential \n",
    "from tensorflow.keras.layers import Input, Dense, Dropout\n",
    "\n",
    "model = Sequential([\n",
    "    Input(shape=(max_tokens,)),\n",
    "    Dense(units=16, activation='relu'),\n",
    "    Dropout(0.5),\n",
    "    Dense(units=1, activation='sigmoid')\n",
    "])\n",
    "\n",
    "model.compile(loss='binary_crossentropy', optimizer='rmsprop', metrics=['accuracy'])\n",
    "\n",
    "history = model.fit(train_ds_bow, epochs=10, validation_data=val_ds_bow)"
   ],
   "id": "2f72a99b29c21124",
   "outputs": [
    {
     "name": "stdout",
     "output_type": "stream",
     "text": [
      "Epoch 1/10\n",
      "\u001B[1m625/625\u001B[0m \u001B[32m━━━━━━━━━━━━━━━━━━━━\u001B[0m\u001B[37m\u001B[0m \u001B[1m6s\u001B[0m 8ms/step - accuracy: 0.7516 - loss: 0.5072 - val_accuracy: 0.8806 - val_loss: 0.2955\n",
      "Epoch 2/10\n",
      "\u001B[1m625/625\u001B[0m \u001B[32m━━━━━━━━━━━━━━━━━━━━\u001B[0m\u001B[37m\u001B[0m \u001B[1m5s\u001B[0m 8ms/step - accuracy: 0.8912 - loss: 0.3035 - val_accuracy: 0.8876 - val_loss: 0.2841\n",
      "Epoch 3/10\n",
      "\u001B[1m625/625\u001B[0m \u001B[32m━━━━━━━━━━━━━━━━━━━━\u001B[0m\u001B[37m\u001B[0m \u001B[1m5s\u001B[0m 9ms/step - accuracy: 0.9054 - loss: 0.2631 - val_accuracy: 0.8832 - val_loss: 0.2996\n",
      "Epoch 4/10\n",
      "\u001B[1m625/625\u001B[0m \u001B[32m━━━━━━━━━━━━━━━━━━━━\u001B[0m\u001B[37m\u001B[0m \u001B[1m5s\u001B[0m 8ms/step - accuracy: 0.9145 - loss: 0.2433 - val_accuracy: 0.8866 - val_loss: 0.3102\n",
      "Epoch 5/10\n",
      "\u001B[1m625/625\u001B[0m \u001B[32m━━━━━━━━━━━━━━━━━━━━\u001B[0m\u001B[37m\u001B[0m \u001B[1m5s\u001B[0m 8ms/step - accuracy: 0.9195 - loss: 0.2409 - val_accuracy: 0.8804 - val_loss: 0.3279\n",
      "Epoch 6/10\n",
      "\u001B[1m625/625\u001B[0m \u001B[32m━━━━━━━━━━━━━━━━━━━━\u001B[0m\u001B[37m\u001B[0m \u001B[1m5s\u001B[0m 8ms/step - accuracy: 0.9212 - loss: 0.2370 - val_accuracy: 0.8816 - val_loss: 0.3328\n",
      "Epoch 7/10\n",
      "\u001B[1m625/625\u001B[0m \u001B[32m━━━━━━━━━━━━━━━━━━━━\u001B[0m\u001B[37m\u001B[0m \u001B[1m5s\u001B[0m 8ms/step - accuracy: 0.9290 - loss: 0.2230 - val_accuracy: 0.8698 - val_loss: 0.3617\n",
      "Epoch 8/10\n",
      "\u001B[1m625/625\u001B[0m \u001B[32m━━━━━━━━━━━━━━━━━━━━\u001B[0m\u001B[37m\u001B[0m \u001B[1m5s\u001B[0m 8ms/step - accuracy: 0.9231 - loss: 0.2385 - val_accuracy: 0.8688 - val_loss: 0.3685\n",
      "Epoch 9/10\n",
      "\u001B[1m625/625\u001B[0m \u001B[32m━━━━━━━━━━━━━━━━━━━━\u001B[0m\u001B[37m\u001B[0m \u001B[1m5s\u001B[0m 8ms/step - accuracy: 0.9284 - loss: 0.2232 - val_accuracy: 0.8750 - val_loss: 0.3657\n",
      "Epoch 10/10\n",
      "\u001B[1m625/625\u001B[0m \u001B[32m━━━━━━━━━━━━━━━━━━━━\u001B[0m\u001B[37m\u001B[0m \u001B[1m5s\u001B[0m 8ms/step - accuracy: 0.9291 - loss: 0.2272 - val_accuracy: 0.8740 - val_loss: 0.3672\n"
     ]
    }
   ],
   "execution_count": 43
  },
  {
   "metadata": {},
   "cell_type": "markdown",
   "source": "Let us test the classifier:",
   "id": "d11a3c57cc2a1c56"
  },
  {
   "metadata": {
    "ExecuteTime": {
     "end_time": "2024-11-12T11:18:22.018124Z",
     "start_time": "2024-11-12T11:18:16.753259Z"
    }
   },
   "cell_type": "code",
   "source": "print(f\"Test accuracy: {model.evaluate(test_ds_bow)[1]:.4f}\")",
   "id": "540f1ee4068d5a3b",
   "outputs": [
    {
     "name": "stdout",
     "output_type": "stream",
     "text": [
      "\u001B[1m782/782\u001B[0m \u001B[32m━━━━━━━━━━━━━━━━━━━━\u001B[0m\u001B[37m\u001B[0m \u001B[1m5s\u001B[0m 7ms/step - accuracy: 0.8702 - loss: 0.3654\n",
      "Test accuracy: 0.8674\n"
     ]
    }
   ],
   "execution_count": 44
  },
  {
   "metadata": {},
   "cell_type": "markdown",
   "source": "We can also inspect the vocabulary formed during the text vectorization process. The first element ([UNK]) of the corresponding dictionary is reserved for unknown words not contained in the training texts. ",
   "id": "f4a614fe286c57a0"
  },
  {
   "metadata": {
    "ExecuteTime": {
     "end_time": "2024-11-12T11:18:27.520167Z",
     "start_time": "2024-11-12T11:18:27.498329Z"
    }
   },
   "cell_type": "code",
   "source": [
    "vocabulary = vectorization_layer.get_vocabulary()\n",
    "print(vocabulary[0:20])"
   ],
   "id": "c7b74bcc4226dbea",
   "outputs": [
    {
     "name": "stdout",
     "output_type": "stream",
     "text": [
      "['[UNK]', 'the', 'and', 'a', 'of', 'to', 'is', 'in', 'it', 'i', 'this', 'that', 'br', 'was', 'as', 'with', 'for', 'movie', 'but', 'film']\n"
     ]
    }
   ],
   "execution_count": 45
  },
  {
   "metadata": {},
   "cell_type": "markdown",
   "source": [
    "## Word embeddings\n",
    "\n",
    "Representing texts as multi-hot vectors of zeroes and ones fails to take into account many aspects of natural language: the order of words in the text, the semantic relationships between different words and so on. Also, the vector representation is very sparse (the overwhelming majority of the vector elements are zero) and wasteful. A much better and useful alternative is to use dense encodings of floating-point numbers with smaller dimensionality. This approach is called **word embeddings**.\n",
    "\n",
    "With word embeddings, each word/token is associated with a vector in a small-dimensional (compared to the vocabulary size) embedding space. The components of these vectors are first initialized randomly, and then treated as trainable parameters. During training, the floating-point values of these vector components change iteratively, as they gather information about the dataset, and the relationships between words. \n",
    "\n",
    "In Keras, the word vector components are arranged in a special `Embedding` layer, as shown in the example implementation below. First, we create a new vectorization layer, which now outputs texts as lists of integer-valued token indices, and adapt this to the training texts. Since the text samples are of varying length, we define a `sequence_length` variable to restrict all lists to the same length (either by truncating long samples, or padding the short ones with zeroes)."
   ],
   "id": "986c23f303304ff3"
  },
  {
   "metadata": {
    "ExecuteTime": {
     "end_time": "2024-11-12T13:42:11.091872Z",
     "start_time": "2024-11-12T13:42:05.670321Z"
    }
   },
   "cell_type": "code",
   "source": [
    "# Define the TextVectorization layer \n",
    "max_tokens = 10000 # Maximum vocabulary size \n",
    "sequence_length = 250 # Maximum sequence length \n",
    "\n",
    "vectorization_layer = TextVectorization( \n",
    "    max_tokens=max_tokens, \n",
    "    output_mode='int', \n",
    "    output_sequence_length=sequence_length )\n",
    "\n",
    "train_texts = train_ds.map(lambda x, y: x) \n",
    "vectorization_layer.adapt(train_texts)\n",
    "\n",
    "train_ds_int = train_ds.map(lambda x, y: (vectorization_layer(x), y)) \n",
    "val_ds_int = val_ds.map(lambda x, y: (vectorization_layer(x), y))\n",
    "test_ds_int = test_ds.map(lambda x, y: (vectorization_layer(x), y))"
   ],
   "id": "739a0440891dc282",
   "outputs": [],
   "execution_count": 110
  },
  {
   "metadata": {},
   "cell_type": "markdown",
   "source": "This is how the preprocessed samples now appear: ",
   "id": "9fe95bd700c2bd3e"
  },
  {
   "metadata": {
    "ExecuteTime": {
     "end_time": "2024-11-12T13:42:15.245480Z",
     "start_time": "2024-11-12T13:42:15.159083Z"
    }
   },
   "cell_type": "code",
   "source": [
    "for inputs, targets in train_ds_int:\n",
    "    print(inputs.shape, targets.shape)\n",
    "    print(inputs.dtype, targets.dtype)\n",
    "    print(inputs[0])\n",
    "    print(targets[0])\n",
    "    break"
   ],
   "id": "d867ff60a141d101",
   "outputs": [
    {
     "name": "stdout",
     "output_type": "stream",
     "text": [
      "(32, 250) (32,)\n",
      "<dtype: 'int64'> <dtype: 'int32'>\n",
      "tf.Tensor(\n",
      "[   4  220 2876    3    1   84 1291   19 1099  190    6   27 1656    5\n",
      "  147    4    1  180  244 1031    1 9538    1    1   16    4 5782    1\n",
      "    1 3312  756    7   34 1795   12    1    5  403 2950   28 3817   34\n",
      " 4678    8   25 8562    3    1    6 2357    9   28  486    6    1   25\n",
      "  194 3014  119   33  645  456    5    2 1616 1698 1031   36 2325   37\n",
      "   34    1 3810   12   44   32   19  307   40    1    3   53  111    1\n",
      " 1831    1    3  372    5 1074   40  227 1698  636    7    6 1890   40\n",
      " 9325   55 1467  744    6  756   36  472  328   40 2465   19    7 1652\n",
      "    6 1979    4 2255    8  642    6  995    4    1    6   81    2 7334\n",
      "   10  251   11  510 3374    3 1859   54    8   11  212 3687   44    4\n",
      "  784 3287    3    1    0    0    0    0    0    0    0    0    0    0\n",
      "    0    0    0    0    0    0    0    0    0    0    0    0    0    0\n",
      "    0    0    0    0    0    0    0    0    0    0    0    0    0    0\n",
      "    0    0    0    0    0    0    0    0    0    0    0    0    0    0\n",
      "    0    0    0    0    0    0    0    0    0    0    0    0    0    0\n",
      "    0    0    0    0    0    0    0    0    0    0    0    0    0    0\n",
      "    0    0    0    0    0    0    0    0    0    0    0    0    0    0\n",
      "    0    0    0    0    0    0    0    0    0    0    0    0], shape=(250,), dtype=int64)\n",
      "tf.Tensor(1, shape=(), dtype=int32)\n"
     ]
    }
   ],
   "execution_count": 111
  },
  {
   "metadata": {},
   "cell_type": "markdown",
   "source": [
    "Now that we have preprocessed our text samples to integer lists of fixed length, they can be directly inserted into a Keras Embedding layer, which converts the integer lists to floating-point valued tensors of shape (sequence length, embedding dimension). \n",
    "\n",
    "After this, one possibility would be to flatten the two-dimensional tensors to one-dimensional ones with shape (sequence length$\\cdot$embedding dimension, ), and follow up with Dense layers. However, such an approach would have two obvious drawbacks: first, the flattened vector would have tens of thousands of elements, which would cause trouble with overfitting. Second, and perhaps more importantly, such a model would process the entire sequence as a single whole, and would pay no attention whatsoever to the ordering of the words in the text samples. For these reasons, we attempt something slightly different.\n",
    "\n",
    "Keras offers a collection of **recurrent** layers, that are especially suited for treating samples with intrinsic ordering, such as time series data or, indeed, text in natural language. Crudely described, the recurrent layers process text samples as follows:\n",
    "\n",
    "* The word vector corresponding to the first word in the text sample enters the layer as its first input, and the layer computes an intermediate output.\n",
    "* The word vector corresponding to the second word enters the layer *together with* the previously computed intermediate output, and the second intermediate output is computed using *both of them*. \n",
    "* The process continues from one word vector to the next, while the information contained in the previous words is sustained in the calculations through the intermediate outputs.\n",
    "* The output computed after the last word vector in the sequence is the final output of the recurrent layer.\n",
    "\n",
    "In the example code cell below, we use a recurrent layer called **LSTM** (for \"Long short-term memory\"). The implementation is very easy, because LSTM layers accept the outputs from Embedding layer directly as their input, and so the only thing to define is the desired shape of the output vectors (this is given to the LSTM layer as a parameter).\n",
    "\n",
    "We add a Dropout layer before the final output layer to reduce overfitting, and train the model for five epochs (now the training takes quite a bit longer).      "
   ],
   "id": "8dc3539053c98b45"
  },
  {
   "metadata": {
    "ExecuteTime": {
     "end_time": "2024-11-12T13:46:58.537017Z",
     "start_time": "2024-11-12T13:42:42.866203Z"
    }
   },
   "cell_type": "code",
   "source": [
    "from tensorflow.keras.layers import Embedding, Dropout, LSTM\n",
    "\n",
    "embed_dim = 128 # dimension of the word embeddings\n",
    "\n",
    "model = Sequential([\n",
    "    Input(shape=(sequence_length,)),\n",
    "    Embedding(input_dim=max_tokens, output_dim=embed_dim, mask_zero=True),\n",
    "    LSTM(64),\n",
    "    Dropout(0.5),\n",
    "    Dense(units=1, activation='sigmoid')\n",
    "])\n",
    "\n",
    "model.compile(loss='binary_crossentropy', optimizer='rmsprop', metrics=['accuracy'])\n",
    "\n",
    "history = model.fit(train_ds_int, epochs=5, validation_data=val_ds_int)"
   ],
   "id": "2113140ef45dea87",
   "outputs": [
    {
     "name": "stdout",
     "output_type": "stream",
     "text": [
      "Epoch 1/5\n",
      "\u001B[1m625/625\u001B[0m \u001B[32m━━━━━━━━━━━━━━━━━━━━\u001B[0m\u001B[37m\u001B[0m \u001B[1m44s\u001B[0m 67ms/step - accuracy: 0.6474 - loss: 0.6134 - val_accuracy: 0.8142 - val_loss: 0.4270\n",
      "Epoch 2/5\n",
      "\u001B[1m625/625\u001B[0m \u001B[32m━━━━━━━━━━━━━━━━━━━━\u001B[0m\u001B[37m\u001B[0m \u001B[1m45s\u001B[0m 72ms/step - accuracy: 0.8305 - loss: 0.4128 - val_accuracy: 0.8548 - val_loss: 0.3430\n",
      "Epoch 3/5\n",
      "\u001B[1m625/625\u001B[0m \u001B[32m━━━━━━━━━━━━━━━━━━━━\u001B[0m\u001B[37m\u001B[0m \u001B[1m63s\u001B[0m 100ms/step - accuracy: 0.8683 - loss: 0.3378 - val_accuracy: 0.8630 - val_loss: 0.3450\n",
      "Epoch 4/5\n",
      "\u001B[1m625/625\u001B[0m \u001B[32m━━━━━━━━━━━━━━━━━━━━\u001B[0m\u001B[37m\u001B[0m \u001B[1m51s\u001B[0m 82ms/step - accuracy: 0.8883 - loss: 0.2932 - val_accuracy: 0.8490 - val_loss: 0.3625\n",
      "Epoch 5/5\n",
      "\u001B[1m625/625\u001B[0m \u001B[32m━━━━━━━━━━━━━━━━━━━━\u001B[0m\u001B[37m\u001B[0m \u001B[1m53s\u001B[0m 85ms/step - accuracy: 0.8965 - loss: 0.2666 - val_accuracy: 0.8524 - val_loss: 0.3414\n"
     ]
    }
   ],
   "execution_count": 112
  },
  {
   "metadata": {},
   "cell_type": "markdown",
   "source": [
    "The validation accuracy has not improved from the much simpler bag-of-words model, which is not very surprising: sentiments in the text can be expected to be reasonably well determined by merely looking at which kinds of words it contains. However, it is easy to deduce that with problems that require deeper insights into the subtle meanings of written text, it is often necessary to use models that are able to preserve the word orderings. \n",
    "\n",
    "Also, it is interesting to see that, after training our model, the word vectors in the Embedding layer encode semantic information about the relationships between words. To see that, first we extract the word vector components from the embedding layer, and construct the dictionaries from the vocabulary: "
   ],
   "id": "73ab87271ecf059d"
  },
  {
   "metadata": {
    "ExecuteTime": {
     "end_time": "2024-11-12T14:00:32.534263Z",
     "start_time": "2024-11-12T14:00:32.500987Z"
    }
   },
   "cell_type": "code",
   "source": [
    "# Extract the embedding weights from the trained model \n",
    "embedding_layer = model.layers[0] \n",
    "embedding_weights = embedding_layer.get_weights()[0] # Shape: (vocab_size, embed_dim) \n",
    "\n",
    "# Get the word index from the tokenizer \n",
    "vocabulary = vectorization_layer.get_vocabulary() \n",
    "index_word = {idx: word for idx, word in enumerate(vocabulary)}\n",
    "word_index = {word: idx for idx, word in index_word.items()}"
   ],
   "id": "c9c7074ef75ed337",
   "outputs": [],
   "execution_count": 126
  },
  {
   "metadata": {},
   "cell_type": "markdown",
   "source": "The following code snippet defines a function that takes a word as an input, and compares its word vector representation to those of all other words in the dictionary in turn, using cosine similarity (essentially the same as taking the dot product of the two vectors). The function then outputs the words with most similar representation.  ",
   "id": "d930677b8394129e"
  },
  {
   "metadata": {
    "ExecuteTime": {
     "end_time": "2024-11-12T14:08:55.142083Z",
     "start_time": "2024-11-12T14:08:55.124190Z"
    }
   },
   "cell_type": "code",
   "source": [
    "import numpy as np\n",
    "from sklearn.metrics.pairwise import cosine_similarity \n",
    "\n",
    "# Function to find similar words \n",
    " \n",
    "def find_similar_words(target_word, top_n=10): \n",
    "    if target_word not in word_index: \n",
    "        return f'Word \"{target_word}\" not in vocabulary' \n",
    "    target_idx = word_index[target_word] \n",
    "    target_embedding = embedding_weights[target_idx].reshape(1, -1) \n",
    "    similarities = cosine_similarity(embedding_weights, target_embedding).reshape(-1) \n",
    "    similar_indices = np.argsort(similarities)[-top_n-1:-1][::-1] \n",
    "    similar_words = [index_word[idx] for idx in similar_indices] \n",
    "    return similar_words \n",
    "    \n",
    "word_to_check = 'bad'\n",
    "print(f'Words similar to {word_to_check}: {find_similar_words(word_to_check)}')"
   ],
   "id": "ca77d6f166c0f35e",
   "outputs": [
    {
     "name": "stdout",
     "output_type": "stream",
     "text": [
      "Words similar to bad: ['terrible', 'worst', 'awful', 'poor', 'worse', 'waste', 'crap', 'supposed', 'disappointing', 'boring']\n"
     ]
    }
   ],
   "execution_count": 132
  },
  {
   "metadata": {},
   "cell_type": "markdown",
   "source": "From this output, it is obvious that the model has been able to figure out something about how the words are related to each other.",
   "id": "14f0573f28300c4e"
  },
  {
   "metadata": {},
   "cell_type": "code",
   "outputs": [],
   "execution_count": null,
   "source": "",
   "id": "87f9ae811a226110"
  }
 ],
 "metadata": {
  "kernelspec": {
   "display_name": "Python 3",
   "language": "python",
   "name": "python3"
  },
  "language_info": {
   "codemirror_mode": {
    "name": "ipython",
    "version": 2
   },
   "file_extension": ".py",
   "mimetype": "text/x-python",
   "name": "python",
   "nbconvert_exporter": "python",
   "pygments_lexer": "ipython2",
   "version": "2.7.6"
  }
 },
 "nbformat": 4,
 "nbformat_minor": 5
}
